{
 "cells": [
  {
   "cell_type": "code",
   "execution_count": 3,
   "id": "modified-ticket",
   "metadata": {},
   "outputs": [],
   "source": [
    "import torch\n",
    "from torch import nn\n",
    "import numpy as np\n",
    "import matplotlib.pyplot as plt\n",
    "import gym"
   ]
  },
  {
   "cell_type": "markdown",
   "id": "rapid-neighborhood",
   "metadata": {},
   "source": [
    "https://github-wiki-see.page/m/openai/gym/wiki/BipedalWalker-v2}\n",
    "    \n",
    "$\\textbf{Description}$\n",
    "\n",
    "Get a 2D biped walker to walk through rough terrain.\n",
    "\n",
    "$\\textbf{Environment : Observation}$\n",
    "Type: Box(24)\n",
    "\n",
    "$Num\tObservation\tMin\tMax\tMean \n",
    "0\thull_angle\t0\t2*pi\t0.5\n",
    "1\thull_angularVelocity\t-inf\t+inf\t-\n",
    "2\tvel_x\t-1\t+1\t-\n",
    "3\tvel_y\t-1\t+1\t-\n",
    "4\thip_joint_1_angle\t-inf\t+inf\t-\n",
    "5\thip_joint_1_speed\t-inf\t+inf\t-\n",
    "6\tknee_joint_1_angle\t-inf\t+inf\t-\n",
    "7\tknee_joint_1_speed\t-inf\t+inf\t-\n",
    "8\tleg_1_ground_contact_flag\t0\t1\t-\n",
    "9\thip_joint_2_angle\t-inf\t+inf\t-\n",
    "10\thip_joint_2_speed\t-inf\t+inf\t-\n",
    "11\tknee_joint_2_angle\t-inf\t+inf\t-\n",
    "12\tknee_joint_2_speed\t-inf\t+inf\t-\n",
    "13\tleg_2_ground_contact_flag\t0\t1\t-\n",
    "14-23\t10 lidar readings\t-inf\t+inf\t-$\n",
    "\n",
    "$\\textbf{Actions}$\n",
    "Type: Box(4) - Torque control(default) / Velocity control - Change inside /envs/box2d/bipedal_walker.py line 363\n",
    "\n",
    "Num\tName\tMin\tMax\n",
    "\n",
    "0\tHip_1 (Torque / Velocity)\t-1\t+1 \n",
    "\n",
    "1\tKnee_1 (Torque / Velocity)\t-1\t+1\n",
    "\n",
    "2\tHip_2 (Torque / Velocity)\t-1\t+1\n",
    "\n",
    "3\tKnee_2 (Torque / Velocity)\t-1\t+1\n",
    "\n",
    "$\\textbf{Reward}$\n",
    "\n",
    "Reward is given for moving forward, total 300+ points up to the far end. If the robot falls, it gets -100. Applying motor torque costs a small amount of points, more optimal agent will get better score. State consists of hull angle speed, angular velocity, horizontal speed, vertical speed, position of joints and joints angular speed, legs contact with ground, and 10 lidar rangefinder measurements. There's no coordinates in the state vector.\n",
    "\n",
    "$\\textbf{Starting State}$\n",
    "\n",
    "Random position upright and mostly straight legs.\n",
    "\n",
    "$\\textbf{Episode Termination}$\n",
    "\n",
    "The episode ends when the robot body touches ground or the robot reaches far right side of the environment."
   ]
  },
  {
   "cell_type": "code",
   "execution_count": 19,
   "id": "crude-convertible",
   "metadata": {},
   "outputs": [
    {
     "name": "stdout",
     "output_type": "stream",
     "text": [
      "-0.02600405580301961\n",
      "-0.07881398305420957\n",
      "-0.10048904217158992\n",
      "-0.0329431512852498\n",
      "-0.12203473487247904\n",
      "-0.08520764390131075\n",
      "0.0619033031380204\n",
      "-0.15761265008807457\n",
      "-0.10146729200084886\n",
      "-0.1177071178058795\n",
      "-0.06753422384460649\n",
      "-0.13716558068990706\n",
      "-0.1612932060956955\n",
      "-0.10948161645730219\n",
      "-0.05455836097399512\n",
      "-0.09624982913335046\n",
      "-0.11202556393792469\n",
      "-0.06981079212824268\n",
      "-0.16314097466071686\n",
      "-0.1750605053181426\n",
      "-0.2567293731371574\n",
      "-0.17012341032425682\n",
      "-0.27234428238868713\n",
      "-0.320044668463368\n",
      "-0.2983010286688805\n",
      "-0.3272242262810469\n",
      "-0.26359097677469256\n",
      "-0.19429904116193572\n",
      "-0.15472890096902847\n",
      "-0.1115510514577218\n",
      "-0.13464818148314955\n",
      "-0.12716487622261047\n",
      "-0.0917263320287057\n",
      "-0.08038823083819437\n",
      "-0.06705010104179382\n",
      "-0.047345322052635364\n",
      "-0.0955392576853446\n",
      "-0.18988597696026047\n",
      "-0.23680734825134278\n",
      "-0.21041946915164592\n",
      "-0.12724443740646163\n",
      "-0.2406802662710361\n",
      "-0.28305651448170105\n",
      "-0.20346702222526075\n",
      "-0.24447251375516493\n",
      "-0.38428648924827574\n",
      "-0.44001552170515057\n",
      "-0.4218959700862543\n",
      "-0.4270340831677131\n",
      "-0.4326315503219775\n",
      "-0.43803744223713875\n",
      "-0.4954520521958657\n",
      "-0.2678431968887635\n",
      "-0.19755025198062498\n",
      "-0.20067192880312368\n",
      "-0.13708736496170598\n",
      "-0.1762927123308182\n",
      "-0.15915874083836756\n",
      "-0.10520610024780036\n",
      "-0.2261785068064928\n",
      "-0.12223433514435969\n",
      "-0.16084350450833873\n",
      "-0.13308919373651226\n",
      "-0.1686902897953987\n",
      "-0.14267862592140954\n",
      "-0.131869860490162\n",
      "-0.12024158438046655\n",
      "-0.05114059430360794\n",
      "-0.06771890991926194\n",
      "-0.10273660178979473\n",
      "-0.15648177293936177\n",
      "-0.10083746274312574\n",
      "-0.05980893795688829\n",
      "-0.09963055579860887\n",
      "-0.15296636366844177\n",
      "-0.1486832192589863\n",
      "-0.1384450112413615\n",
      "-0.10925305227438373\n",
      "-0.15060898318886756\n",
      "-0.2437200007687024\n",
      "-0.21007285702725134\n",
      "-0.32429382776717464\n",
      "-0.2797200372007974\n",
      "-0.25572974852721014\n",
      "-0.15625848136097195\n",
      "-0.16939279560248174\n",
      "-0.19212651236851894\n",
      "-0.1477294103304557\n",
      "-0.13010756554206093\n",
      "-0.068647740252316\n",
      "-0.04315970358997584\n",
      "-0.1148755963742733\n",
      "-0.045951657462865114\n",
      "-0.08770673712094507\n",
      "-0.04586696707209188\n",
      "-0.02194784123698634\n",
      "-0.04216582407554228\n",
      "0.0006454310814551414\n",
      "-0.056343359197180656\n",
      "-0.04668536051114282\n"
     ]
    }
   ],
   "source": [
    "env = gym.make(\"BipedalWalker-v3\")\n",
    "observation = env.reset()\n",
    "for _ in range(100):\n",
    "    env.render()\n",
    "    action = env.action_space.sample() # your agent here (this takes random actions)\n",
    "    observation, reward, done, info = env.step(action)\n",
    "    print(reward)\n",
    "    if done:\n",
    "        observation = env.reset()\n",
    "env.close()\n",
    "# print(rewards)"
   ]
  },
  {
   "cell_type": "code",
   "execution_count": 6,
   "id": "established-jurisdiction",
   "metadata": {},
   "outputs": [
    {
     "data": {
      "text/plain": [
       "(Box(-1.0, 1.0, (4,), float32), Box(-inf, inf, (24,), float32))"
      ]
     },
     "execution_count": 6,
     "metadata": {},
     "output_type": "execute_result"
    }
   ],
   "source": [
    "env.action_space, env.observation_space"
   ]
  },
  {
   "cell_type": "code",
   "execution_count": 10,
   "id": "moral-behalf",
   "metadata": {},
   "outputs": [
    {
     "data": {
      "text/plain": [
       "(array([-0.04242516,  0.02229533,  0.06530807, -0.04109291, -0.11813273,\n",
       "        -0.05345169,  0.78499204, -1.        ,  0.        ,  0.23785482,\n",
       "         0.21821049,  0.40128577, -1.        ,  0.        ,  0.47013718,\n",
       "         0.47547629,  0.49211684,  0.52211529,  0.56963158,  0.64253706,\n",
       "         0.75632179,  0.94486445,  1.        ,  1.        ]),\n",
       " array([ 0.3334087 , -0.41505602,  0.16125764, -0.4089472 ], dtype=float32))"
      ]
     },
     "execution_count": 10,
     "metadata": {},
     "output_type": "execute_result"
    }
   ],
   "source": [
    "observation, action"
   ]
  },
  {
   "cell_type": "code",
   "execution_count": null,
   "id": "focal-swedish",
   "metadata": {},
   "outputs": [],
   "source": []
  }
 ],
 "metadata": {
  "kernelspec": {
   "display_name": "Python 3",
   "language": "python",
   "name": "python3"
  },
  "language_info": {
   "codemirror_mode": {
    "name": "ipython",
    "version": 3
   },
   "file_extension": ".py",
   "mimetype": "text/x-python",
   "name": "python",
   "nbconvert_exporter": "python",
   "pygments_lexer": "ipython3",
   "version": "3.7.3"
  }
 },
 "nbformat": 4,
 "nbformat_minor": 5
}

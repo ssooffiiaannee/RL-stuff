{
  "cells": [
    {
      "cell_type": "markdown",
      "metadata": {
        "id": "ambient-challenge"
      },
      "source": [
        "<div>\n",
        "<img src=\"attachment:image.png\" width=\"600\" />\n",
        "</div>"
      ],
      "id": "ambient-challenge"
    },
    {
      "cell_type": "markdown",
      "metadata": {
        "id": "popular-relevance"
      },
      "source": [
        "$Q(s, a|\\theta^Q) \\rightarrow critic$\n",
        "\n",
        "$\\mu(s|\\theta^\\mu) \\rightarrow actor$\n",
        "\n",
        "$Q^{'}(s, a|\\theta^{Q'}) \\rightarrow \\text{target network}$\n",
        "\n",
        "With $\\tau << 1$, the target network (which is the critic in vanilla actor-critic) receives its weights slowly from the updated critic's weights, greatly improving the stability of learning (https://arxiv.org/abs/1509.02971)\n",
        "\n",
        "\"We found that having both a target $μ^{'}$ and $Q^{'}$ was required to have stable targets $y_i$\n",
        "in order to consistently train the critic without divergence. This may slow learning, since\n",
        "the target network delays the propagation of value estimations. However, in practice we found this\n",
        "was greatly outweighed by the stability of learning.\" (https://arxiv.org/abs/1509.02971)\n",
        "\n",
        "$\\text{The policy gradient theorem establishes (for episodic problems)} \\rightarrow \\nabla J(\\theta) \\propto \\sum_{s} \\mu(s)\\sum_{a} q_\\pi(s,a)\\nabla\\pi(a|s,\\theta)$"
      ],
      "id": "popular-relevance"
    },
    {
      "cell_type": "markdown",
      "metadata": {
        "id": "rapid-neighborhood"
      },
      "source": [
        "https://github-wiki-see.page/m/openai/gym/wiki/BipedalWalker-v2}\n",
        "    \n",
        "$\\textbf{Description}$\n",
        "\n",
        "Get a 2D biped walker to walk through rough terrain.\n",
        "\n",
        "$\\textbf{Environment : Observation}$\n",
        "Type: Box(24)\n",
        "\n",
        "$Num\tObservation\tMin\tMax\tMean \n",
        "0\thull_angle\t0\t2*pi\t0.5\n",
        "1\thull_angularVelocity\t-inf\t+inf\t-\n",
        "2\tvel_x\t-1\t+1\t-\n",
        "3\tvel_y\t-1\t+1\t-\n",
        "4\thip_joint_1_angle\t-inf\t+inf\t-\n",
        "5\thip_joint_1_speed\t-inf\t+inf\t-\n",
        "6\tknee_joint_1_angle\t-inf\t+inf\t-\n",
        "7\tknee_joint_1_speed\t-inf\t+inf\t-\n",
        "8\tleg_1_ground_contact_flag\t0\t1\t-\n",
        "9\thip_joint_2_angle\t-inf\t+inf\t-\n",
        "10\thip_joint_2_speed\t-inf\t+inf\t-\n",
        "11\tknee_joint_2_angle\t-inf\t+inf\t-\n",
        "12\tknee_joint_2_speed\t-inf\t+inf\t-\n",
        "13\tleg_2_ground_contact_flag\t0\t1\t-\n",
        "14-23\t10 lidar readings\t-inf\t+inf\t-$\n",
        "\n",
        "$\\textbf{Actions}$\n",
        "Type: Box(4) - Torque control(default) / Velocity control - Change inside /envs/box2d/bipedal_walker.py line 363\n",
        "\n",
        "Num\tName\tMin\tMax\n",
        "\n",
        "0\tHip_1 (Torque / Velocity)\t-1\t+1 \n",
        "\n",
        "1\tKnee_1 (Torque / Velocity)\t-1\t+1\n",
        "\n",
        "2\tHip_2 (Torque / Velocity)\t-1\t+1\n",
        "\n",
        "3\tKnee_2 (Torque / Velocity)\t-1\t+1\n",
        "\n",
        "$\\textbf{Reward}$\n",
        "\n",
        "Reward is given for moving forward, total 300+ points up to the far end. If the robot falls, it gets -100. Applying motor torque costs a small amount of points, more optimal agent will get better score. State consists of hull angle speed, angular velocity, horizontal speed, vertical speed, position of joints and joints angular speed, legs contact with ground, and 10 lidar rangefinder measurements. There's no coordinates in the state vector.\n",
        "\n",
        "$\\textbf{Starting State}$\n",
        "\n",
        "Random position upright and mostly straight legs.\n",
        "\n",
        "$\\textbf{Episode Termination}$\n",
        "\n",
        "The episode ends when the robot body touches ground or the robot reaches far right side of the environment."
      ],
      "id": "rapid-neighborhood"
    },
    {
      "cell_type": "code",
      "source": [
        "# !pip install gym==0.18.0\n",
        "# !pip3 install box2d-py\n",
        "# !pip3 install gym[Box_2D]"
      ],
      "metadata": {
        "id": "Qp9468i844LS"
      },
      "id": "Qp9468i844LS",
      "execution_count": 2,
      "outputs": []
    },
    {
      "cell_type": "code",
      "execution_count": 1,
      "metadata": {
        "id": "modified-ticket"
      },
      "outputs": [],
      "source": [
        "import torch\n",
        "from torch import nn\n",
        "import numpy as np\n",
        "import matplotlib.pyplot as plt\n",
        "import gym\n",
        "from collections import deque\n",
        "from copy import deepcopy"
      ],
      "id": "modified-ticket"
    },
    {
      "cell_type": "code",
      "execution_count": 3,
      "metadata": {
        "id": "focal-swedish"
      },
      "outputs": [],
      "source": [
        "class Actor(nn.Module):\n",
        "    def __init__(self, input_size: int = 24, out_size: int = 4):\n",
        "        super().__init__()\n",
        "        self.fc1 = nn.Linear(input_size, 400)\n",
        "        self.fc2 = nn.Linear(400, 300)\n",
        "        self.fc3 = nn.Linear(300, out_size)\n",
        "        self.bn1 = nn.BatchNorm1d(400)\n",
        "        self.bn2 = nn.BatchNorm1d(300)\n",
        "        self.out_act = nn.Tanh()\n",
        "        self.act = nn.ReLU()\n",
        "\n",
        "        self.init_weights()\n",
        "        \n",
        "    def forward(self, x : torch.Tensor):\n",
        "        # print(torch.transpose(x, 0, 1).size())\n",
        "        # print(self.fc1(x).size())\n",
        "        x = self.act(self.bn1(self.fc1(x)))\n",
        "        x =self.act(self.bn2(self.fc2(x)))\n",
        "        return self.out_act(self.fc3(x))\n",
        "    \n",
        "    def init_weights(self):\n",
        "        self.fc2.weight.data.uniform_(-3*1e-3, 3*1e-3)\n",
        "        self.fc2.bias.data.uniform_(-3*1e-3, 3*1e-3)\n",
        "        \n",
        "        self.fc1.weight.data.uniform_(-3*1e-3, 3*1e-3)\n",
        "        self.fc1.bias.data.uniform_(-3*1e-3, 3*1e-3)"
      ],
      "id": "focal-swedish"
    },
    {
      "cell_type": "code",
      "execution_count": 4,
      "metadata": {
        "id": "prospective-drinking"
      },
      "outputs": [],
      "source": [
        "class Critic(nn.Module):\n",
        "    def __init__(self, input_size = 24 , action_space_sz = 4 ,out_size = 1):\n",
        "        super().__init__()\n",
        "        self.fc1 = nn.Linear(input_size, 400)\n",
        "        self.fc2 = nn.Linear(400 + action_space_sz, 300)\n",
        "        self.fc3 = nn.Linear(300, 1)\n",
        "        self.bn1 = nn.BatchNorm1d(400)\n",
        "        self.act = nn.ReLU()\n",
        "        \n",
        "        self.init_weights(input_size)\n",
        "        \n",
        "    def forward(self, s : torch.Tensor, a : torch.Tensor):\n",
        "        x = self.act(self.bn1(self.fc1(s)))\n",
        "        x = self.act(self.fc2(torch.cat((x, a), dim = 1)))\n",
        "        return self.fc3(x)\n",
        "\n",
        "    def init_weights(self):\n",
        "        nn.init.uniform_(self.fc2.weight, -3*1e-3, 3*1e-3)\n",
        "        nn.init.uniform_(self.fc2.bias, -3*1e-3, 3*1e-3)\n",
        "        \n",
        "        nn.init.uniform_(self.fc1.weight, -3*1e-3, 3*1e-3)\n",
        "        nn.init.uniform_(self.fc1.bias, -3*1e-3, 3*1e-3)"
      ],
      "id": "prospective-drinking"
    },
    {
      "cell_type": "code",
      "execution_count": 14,
      "metadata": {
        "id": "charming-proxy"
      },
      "outputs": [],
      "source": [
        "class OUNoise:\n",
        "    \"\"\"Ornstein-Uhlenbeck process.\"\"\"\n",
        "\n",
        "    def __init__(self, size, seed, mu=0., theta=0.4, sigma=0.2):\n",
        "        \"\"\"Initialize parameters and noise process.\"\"\"\n",
        "        self.mu = mu * np.ones(size)\n",
        "        self.theta = theta\n",
        "        self.sigma = sigma\n",
        "        # self.seed = random.seed(seed)\n",
        "        self.reset()\n",
        "\n",
        "    def reset(self):\n",
        "        \"\"\"Reset the internal state (= noise) to mean (mu).\"\"\"\n",
        "        self.state = deepcopy(self.mu)\n",
        "\n",
        "    def sample(self):\n",
        "        \"\"\"Update internal state and return it as a noise sample.\"\"\"\n",
        "        x = self.state\n",
        "        dx = self.theta * (self.mu - x) + self.sigma * np.array([np.random.random() for i in range(len(x))])\n",
        "        self.state = x + dx\n",
        "        return self.state"
      ],
      "id": "charming-proxy"
    },
    {
      "cell_type": "code",
      "source": [
        "class Agent:\n",
        "  def __init__(self, device,\n",
        "               action_space_sz: int = 4,\n",
        "               state_space_sz: int = 24, \n",
        "               tau = 0.001,\n",
        "               discount_rate: float = 0.99,\n",
        "               batch_size = 64):\n",
        "    self.device = device\n",
        "    self.action_space_sz = action_space_sz\n",
        "    self.state_space_sz = state_space_sz\n",
        "    self.tau = tau\n",
        "    self.discount_rate = discount_rate\n",
        "\n",
        "    self.r_buffer = deque(maxlen = 1000000)\n",
        "    self.batch_size = 64\n",
        "    self.learning_rate_actor = 0.0001\n",
        "    self.learning_rate_critic = 0.001\n",
        "\n",
        "    self.actor = Actor().to(device = self.device)\n",
        "    self.critic = Critic().to(device = self.device)\n",
        "\n",
        "    # target\n",
        "    self.actor_ = Actor().to(device = self.device)\n",
        "    self.critic_ = Critic().to(device = self.device)\n",
        "    self.actor_.load_state_dict(deepcopy(self.actor.state_dict()))\n",
        "    self.critic_.load_state_dict(deepcopy(self.critic_.state_dict()))\n",
        "\n",
        "    # optimizer\n",
        "    self.optimizer_actor = torch.optim.Adam(self.actor.parameters(), lr = self.learning_rate_actor)\n",
        "    self.optimizer_critic = torch.optim.Adam(self.critic.parameters(), lr = self.learning_rate_critic, weight_decay=1e-2)\n",
        "\n",
        "    self.env = gym.make(\"BipedalWalker-v3\")\n",
        "    self.noise = OUNoise((1, action_space_sz), seed)\n",
        "\n",
        "  def sample_batch(self):\n",
        "    indices = np.random.randint(0, len(self.r_buffer), size = self.batch_size)\n",
        "    states, actions, rewards, next_states, dones = [[self.r_buffer[i][j] for i in indices] for j in range(5)]\n",
        "    return states, actions, rewards, next_states, dones\n",
        "\n",
        "  def update_target_networks(self, local_model, target_model, tau):\n",
        "    \"\"\"Soft update model parameters.\n",
        "    \"\"\"\n",
        "    # # Only Tensors created explicitly by the user (graph leaves) support the deepcopy protocol at the moment\n",
        "    for target_param, local_param in zip(target_model.parameters(), local_model.parameters()):\n",
        "        target_param = torch.clone(tau * param + (1.0 - tau)*t_param)\n",
        "\n",
        "  def action_step(self, env, state):\n",
        "    with torch.no_grad():\n",
        "      self.actor.eval()\n",
        "      # print(torch.tensor(state, dtype = torch.float)[None, :])\n",
        "      a = self.actor(torch.tensor(state, dtype = torch.float)[None, :].to(device = self.device))\n",
        "      a = a.to(\"cpu\")\n",
        "      action =  a + self.noise.sample()\n",
        "      self.actor.train()\n",
        "    action = action.squeeze().squeeze()\n",
        "#     Can't call numpy() on Tensor that requires grad. Use tensor.detach().numpy() instead\n",
        "    observation, reward, done, info = env.step(action.detach().numpy())\n",
        "    self.r_buffer.append((state, action.detach().numpy(), reward, observation, done))\n",
        "    return observation, reward, done\n",
        "\n",
        "  def train(self):\n",
        "    states, actions, rewards, next_states, dones = self.sample_batch()\n",
        "    states = torch.tensor(states, dtype = torch.float32).to(device = self.device)#[:, None]\n",
        "    actions = torch.tensor(actions, dtype = torch.float32).to(device = self.device)#[:, None]\n",
        "    next_states = torch.tensor(next_states, dtype = torch.float32).to(device = self.device)#[:, None]\n",
        "    rewards = torch.tensor(rewards, dtype = torch.float32).to(device = self.device)#[:, None, None]\n",
        "    \n",
        "    self.optimizer_critic.zero_grad()\n",
        "    # with torch.no_grad():\n",
        "    actor_actions_ = self.actor_(next_states)\n",
        "    dones = torch.tensor(dones, dtype = torch.int32).to(device = self.device)#[:, None, None]\n",
        "    target = rewards + self.discount_rate * (1 - dones) * self.critic_(next_states, actor_actions_)\n",
        "    loss = nn.MSELoss()\n",
        "    l = loss(self.critic(states, actions), target)\n",
        "    l.backward()\n",
        "    self.optimizer_critic.step()\n",
        "    \n",
        "    self.optimizer_actor.zero_grad()\n",
        "    actor_actions = self.actor(states)\n",
        "    critic_values = - self.critic(states, actor_actions).sum()/self.batch_size\n",
        "    critic_values.backward()\n",
        "    self.optimizer_actor.step()\n",
        "             \n",
        "    self.update_target_networks(self.actor, self.actor_, self.tau)\n",
        "    self.update_target_networks(self.critic, self.critic_, self.tau)"
      ],
      "metadata": {
        "id": "6lPviqkh4eNT"
      },
      "id": "6lPviqkh4eNT",
      "execution_count": 19,
      "outputs": []
    },
    {
      "cell_type": "code",
      "execution_count": null,
      "metadata": {
        "id": "GNwtBUnHVXl9"
      },
      "outputs": [],
      "source": [
        "# actor_.eval()\n",
        "# print(torch.tensor(obs, dtype = torch.float32)[None, None, :].size())\n",
        "# print(actor_(torch.tensor(obs, dtype = torch.float32)[None, None, :]).size())\n",
        "# actor_.train()"
      ],
      "id": "GNwtBUnHVXl9"
    },
    {
      "cell_type": "code",
      "execution_count": null,
      "metadata": {
        "id": "7_Q73d1sDaPo"
      },
      "outputs": [],
      "source": [
        "# states, actions, rewards, next_states, dones = sample_batch()\n",
        "# torch.tensor(states[0], dtype = torch.float32).size()"
      ],
      "id": "7_Q73d1sDaPo"
    },
    {
      "cell_type": "code",
      "execution_count": null,
      "metadata": {
        "id": "2MfbJaSZEuLQ"
      },
      "outputs": [],
      "source": [
        "# s = torch.tensor(states[0], dtype = torch.float32)[None, :].to(device = device)\n",
        "# a = torch.tensor(actions[0], dtype = torch.float32)[None, :].to(device = device)\n",
        "# critic_.eval()\n",
        "# critic_(s, a)"
      ],
      "id": "2MfbJaSZEuLQ"
    },
    {
      "cell_type": "markdown",
      "metadata": {
        "id": "url2aMvXtjUu"
      },
      "source": [
        "https://www.tensorflow.org/agents/tutorials/5_replay_buffers_tutorial"
      ],
      "id": "url2aMvXtjUu"
    },
    {
      "cell_type": "code",
      "source": [
        "device = torch.device(\"cuda:0\" if torch.cuda.is_available() else \"cpu\")"
      ],
      "metadata": {
        "id": "nL2DgLwTC445"
      },
      "id": "nL2DgLwTC445",
      "execution_count": 16,
      "outputs": []
    },
    {
      "cell_type": "code",
      "execution_count": 20,
      "metadata": {
        "id": "informational-proposition",
        "colab": {
          "base_uri": "https://localhost:8080/"
        },
        "outputId": "4030de6d-e8cd-4355-f72e-10c463b7fc1c"
      },
      "outputs": [
        {
          "output_type": "stream",
          "name": "stderr",
          "text": [
            "/usr/local/lib/python3.7/dist-packages/gym/logger.py:30: UserWarning: \u001b[33mWARN: Box bound precision lowered by casting to float32\u001b[0m\n",
            "  warnings.warn(colorize('%s: %s'%('WARN', msg % args), 'yellow'))\n",
            "/usr/local/lib/python3.7/dist-packages/torch/nn/modules/loss.py:520: UserWarning: Using a target size (torch.Size([64, 64])) that is different to the input size (torch.Size([64, 1])). This will likely lead to incorrect results due to broadcasting. Please ensure they have the same size.\n",
            "  return F.mse_loss(input, target, reduction=self.reduction)\n"
          ]
        },
        {
          "output_type": "stream",
          "name": "stdout",
          "text": [
            " Episodes 999 Reward : -101.85343060855276 Average reward for last 20 eps : -102.52688263221732"
          ]
        }
      ],
      "source": [
        "seed = 42\n",
        "np.random.seed(seed)\n",
        "torch.seed()\n",
        "agent = Agent(device)\n",
        "rewards_l = []\n",
        "win_len = 20\n",
        "n_episodes = 1000\n",
        "env = gym.make(\"BipedalWalker-v3\")\n",
        "for i in range(n_episodes):\n",
        "    obs = env.reset()\n",
        "    done = False\n",
        "    rewards_sum = 0\n",
        "    while(not done):\n",
        "        obs, reward, done = agent.action_step(env, obs)\n",
        "        rewards_sum += reward\n",
        "    rewards_l.append(rewards_sum)\n",
        "    avg_reward = sum(rewards_l[-win_len:])/min(win_len, len(rewards_l))\n",
        "\n",
        "    agent.train()\n",
        "    print(f\"\\r Episodes {i} Reward : {rewards_sum} Average reward for last {win_len} eps : {avg_reward}\", end = \"\")"
      ],
      "id": "informational-proposition"
    },
    {
      "cell_type": "code",
      "execution_count": 21,
      "metadata": {
        "colab": {
          "base_uri": "https://localhost:8080/",
          "height": 283
        },
        "id": "champion-league",
        "outputId": "5eac7ac4-fb77-4e67-9324-a9113f3d7de8",
        "scrolled": true
      },
      "outputs": [
        {
          "output_type": "execute_result",
          "data": {
            "text/plain": [
              "[<matplotlib.lines.Line2D at 0x7f1cacc25a50>]"
            ]
          },
          "metadata": {},
          "execution_count": 21
        },
        {
          "output_type": "display_data",
          "data": {
            "text/plain": [
              "<Figure size 432x288 with 1 Axes>"
            ],
            "image/png": "[encoded data removed]"
          },
          "metadata": {
            "needs_background": "light"
          }
        }
      ],
      "source": [
        "plt.plot(rewards_l)"
      ],
      "id": "champion-league"
    }
  ],
  "metadata": {
    "accelerator": "GPU",
    "colab": {
      "collapsed_sections": [],
      "name": "BipedalWalker.ipynb",
      "provenance": []
    },
    "kernelspec": {
      "display_name": "Python 3",
      "language": "python",
      "name": "python3"
    },
    "language_info": {
      "codemirror_mode": {
        "name": "ipython",
        "version": 3
      },
      "file_extension": ".py",
      "mimetype": "text/x-python",
      "name": "python",
      "nbconvert_exporter": "python",
      "pygments_lexer": "ipython3",
      "version": "3.7.3"
    }
  },
  "nbformat": 4,
  "nbformat_minor": 5
}
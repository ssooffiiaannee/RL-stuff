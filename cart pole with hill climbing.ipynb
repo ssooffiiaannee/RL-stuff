{
 "cells": [
  {
   "cell_type": "markdown",
   "id": "dirty-announcement",
   "metadata": {},
   "source": [
    "<font> Turns out we can also solve cart-pole with hill-climbing algorithm </font>\n",
    "\n",
    "<font> Artificial intelligence: A moder apparoach chapter 4, (see also simulated annealing)</font>\n",
    "\n",
    "<font> Inspired from Udaciy Deep RL course </font>"
   ]
  },
  {
   "cell_type": "code",
   "execution_count": 1,
   "id": "listed-belize",
   "metadata": {},
   "outputs": [],
   "source": [
    "import gym\n",
    "import numpy as np\n",
    "import matplotlib.pyplot as plt"
   ]
  },
  {
   "cell_type": "code",
   "execution_count": 2,
   "id": "proud-aging",
   "metadata": {},
   "outputs": [],
   "source": [
    "class hillClimbing():\n",
    "    def __init__(self, state_size = 4, action_size = 2, init_factor = 1e-4):\n",
    "        self.w = init_factor * (np.random.rand(action_size, state_size))\n",
    "    \n",
    "    def get_action(self, state):\n",
    "        vals = np.dot(self.w, state)\n",
    "        return np.argmax(vals)"
   ]
  },
  {
   "cell_type": "code",
   "execution_count": 48,
   "id": "geographic-organic",
   "metadata": {},
   "outputs": [
    {
     "name": "stdout",
     "output_type": "stream",
     "text": [
      " Mean score : 445.965 at episode : 199  "
     ]
    },
    {
     "data": {
      "text/plain": [
       "[<matplotlib.lines.Line2D at 0x25f7431c4e0>]"
      ]
     },
     "execution_count": 48,
     "metadata": {},
     "output_type": "execute_result"
    },
    {
     "data": {
      "image/png": "[encoded data removed]",
      "text/plain": [
       "<Figure size 432x288 with 1 Axes>"
      ]
     },
     "metadata": {
      "needs_background": "light"
     },
     "output_type": "display_data"
    }
   ],
   "source": [
    "env = gym.make(\"CartPole-v1\")\n",
    "\n",
    "env.seed(42)\n",
    "np.random.seed(42)\n",
    "\n",
    "\n",
    "agent = hillClimbing()\n",
    "rewards = []\n",
    "best_weights = agent.w.copy()\n",
    "\n",
    "def train(episodes = 10, max_it = 500, noise_scale = 1e-3):\n",
    "    best_score = 0\n",
    "    for i in range(episodes):\n",
    "        obs = env.reset()\n",
    "        score = 0\n",
    "        action = env.action_space.sample()\n",
    "        it = 0\n",
    "        \n",
    "        while(it < max_it):\n",
    "            obs, reward, done, info = env.step(action)\n",
    "            score += reward\n",
    "            action = agent.get_action(obs.reshape((4, 1)))\n",
    "            it += 1\n",
    "            if(done):\n",
    "                break\n",
    "        rewards.append(score)\n",
    "        score = sum(rewards[-200:])/min(200, len(rewards))\n",
    "        if(best_score <= score):\n",
    "            best_score = score\n",
    "            best_weights = agent.w.copy()\n",
    "            noise_scale = max(1e-3, noise_scale/2)\n",
    "            agent.w += noise_scale * (np.random.rand(*agent.w.shape) - 0.5)\n",
    "        else:\n",
    "            noise_scale  = min(1, noise_scale * 2)\n",
    "            agent.w = best_weights.copy() + noise_scale * (np.random.rand(*agent.w.shape) - 0.5)\n",
    "\n",
    "        print(\"\\r Mean score : {:.3f} at episode : {}  \".format(sum(rewards[-200:])/min(200, len(rewards)), i), end=\"\")\n",
    "    return best_score\n",
    "score = train(episodes=200)\n",
    "plt.plot(rewards)"
   ]
  },
  {
   "cell_type": "code",
   "execution_count": 49,
   "id": "rural-fifth",
   "metadata": {},
   "outputs": [
    {
     "name": "stdout",
     "output_type": "stream",
     "text": [
      "500.0\n"
     ]
    }
   ],
   "source": [
    "env.reset()\n",
    "done = False\n",
    "action = env.action_space.sample()\n",
    "rewards = 0\n",
    "# agent.w = best_weights.copy()\n",
    "while(not done):\n",
    "    obs, reward, done, info = env.step(action)\n",
    "    rewards += reward\n",
    "    action = agent.get_action(obs.reshape((4, 1)))\n",
    "    env.render()\n",
    "env.close()\n",
    "print(rewards)"
   ]
  },
  {
   "cell_type": "code",
   "execution_count": null,
   "id": "owned-victory",
   "metadata": {},
   "outputs": [],
   "source": []
  }
 ],
 "metadata": {
  "kernelspec": {
   "display_name": "Python 3",
   "language": "python",
   "name": "python3"
  },
  "language_info": {
   "codemirror_mode": {
    "name": "ipython",
    "version": 3
   },
   "file_extension": ".py",
   "mimetype": "text/x-python",
   "name": "python",
   "nbconvert_exporter": "python",
   "pygments_lexer": "ipython3",
   "version": "3.7.3"
  }
 },
 "nbformat": 4,
 "nbformat_minor": 5
}

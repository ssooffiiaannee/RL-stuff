{
 "cells": [
  {
   "cell_type": "code",
   "execution_count": 1,
   "id": "hungarian-sociology",
   "metadata": {},
   "outputs": [],
   "source": [
    "import torch\n",
    "from torch import nn\n",
    "import numpy as np\n",
    "import matplotlib.pyplot as plt\n",
    "import gym"
   ]
  },
  {
   "cell_type": "code",
   "execution_count": 2,
   "id": "broadband-journey",
   "metadata": {},
   "outputs": [],
   "source": [
    "env = gym.make(\"CartPole-v1\") #(\"Pendulum-v0\")\n",
    "# observation = env.reset()\n",
    "# for _ in range(100):\n",
    "#     env.render()\n",
    "#     action = env.action_space.sample() # your agent here (this takes random actions)\n",
    "#     observation, reward, done, info = env.step(action)\n",
    "\n",
    "#     if done:\n",
    "#         observation = env.reset()\n",
    "# env.close()"
   ]
  },
  {
   "cell_type": "markdown",
   "id": "academic-commodity",
   "metadata": {},
   "source": [
    "Reward\n",
    "Reward is 1 for every step taken, including the termination step. The threshold is 475 for v1.\n",
    "\n",
    "Starting State\n",
    "    All observations are assigned a uniform random value between ±0.05.\n",
    "\n",
    "Episode Termination\n",
    "\n",
    "    Pole Angle is more than ±12°\n",
    "    \n",
    "    Cart Position is more than ±2.4 (center of the cart reaches the edge of the display)\n",
    "\n",
    "    Episode length is greater than 200 (500 for v1)."
   ]
  },
  {
   "cell_type": "code",
   "execution_count": 4,
   "id": "balanced-doctor",
   "metadata": {},
   "outputs": [
    {
     "data": {
      "text/plain": [
       "(Discrete(2),\n",
       " Box(-3.4028234663852886e+38, 3.4028234663852886e+38, (4,), float32))"
      ]
     },
     "execution_count": 4,
     "metadata": {},
     "output_type": "execute_result"
    }
   ],
   "source": [
    "# space (0 => Push cart to the left, 1 => Push cart to the right), (cart pos, cart veloc, pole angle, pole veloc)\n",
    "env.action_space, env.observation_space"
   ]
  },
  {
   "cell_type": "code",
   "execution_count": 5,
   "id": "hawaiian-peeing",
   "metadata": {},
   "outputs": [],
   "source": [
    "class model(nn.Module):\n",
    "    def __init__(self, input_units = 4, h_units = 32, out_units = 2):\n",
    "        super().__init__()\n",
    "        self.l = nn.Sequential(\n",
    "            nn.Linear(input_units, h_units),\n",
    "            nn.ELU(),\n",
    "            nn.Linear(h_units, h_units),\n",
    "            nn.ELU(),\n",
    "            nn.Linear(h_units, out_units)\n",
    "        )\n",
    "#         self.initialize_weights()\n",
    "    def forward(self, x):\n",
    "        x = self.l(x)\n",
    "        return x\n",
    "    \n",
    "    # weight init my improve convergence speed\n",
    "    def initialize_weights(self):\n",
    "        for idx, m in enumerate(self.modules()): # will return modules and submodules\n",
    "            if(isinstance(m, (nn.Linear))):\n",
    "                nn.init.xavier_uniform_(m.weight)\n",
    "                m.bias.data.zero_()"
   ]
  },
  {
   "cell_type": "code",
   "execution_count": 6,
   "id": "naval-fancy",
   "metadata": {},
   "outputs": [],
   "source": [
    "def greedy(state):\n",
    "    if(np.random.rand() < epsilon):\n",
    "        action = np.random.randint(2)\n",
    "    else:\n",
    "        action = torch.argmax(network(torch.tensor(state, dtype = torch.float32)))\n",
    "    return int(action)"
   ]
  },
  {
   "cell_type": "code",
   "execution_count": 7,
   "id": "rocky-demand",
   "metadata": {},
   "outputs": [],
   "source": [
    "def train_batch():\n",
    "    states, actions, rewards, next_states, dones = sample_sarsa()\n",
    "    q_values = network(torch.tensor(states, dtype = torch.float32))\n",
    "    rewards = torch.tensor(rewards, dtype = torch.float32)[:, None]\n",
    "    optimizer.zero_grad()\n",
    "    next_q_vals = network(torch.tensor(next_states, dtype = torch.float32))\n",
    "\n",
    "    next_mask = next_q_vals.argmax(1)[:, None]\n",
    "    mask = torch.tensor(actions)[:, None]\n",
    "    dones = torch.tensor(dones, dtype = torch.int32)[:, None]\n",
    "    target = rewards + discount_rate * (1 - dones) * next_q_vals.gather(1, next_mask)\n",
    "    loss = Loss(target, q_values.gather(1, mask))\n",
    "    loss.backward()\n",
    "    optimizer.step()"
   ]
  },
  {
   "cell_type": "code",
   "execution_count": 8,
   "id": "decreased-reference",
   "metadata": {},
   "outputs": [],
   "source": [
    "def sample_sarsa():\n",
    "    indices = np.random.randint(0, len(replay_memory), size = batch_size)\n",
    "    states, actions, rewards, next_states, dones = [[replay_memory[i][j] for i in indices] \n",
    "                                                                        for j in range(5)]\n",
    "    return states, actions, rewards, next_states, dones"
   ]
  },
  {
   "cell_type": "code",
   "execution_count": 20,
   "id": "marine-poverty",
   "metadata": {},
   "outputs": [],
   "source": [
    "def action_step(state, action):\n",
    "    next_state, reward, done, info = env.step(int(action))\n",
    "    if(abs(next_state[0]) > dist_constaint):\n",
    "        done = True\n",
    "    replay_memory.append((state, action, reward, next_state, done))\n",
    "    return next_state, done"
   ]
  },
  {
   "cell_type": "code",
   "execution_count": 10,
   "id": "stable-mandate",
   "metadata": {},
   "outputs": [],
   "source": [
    "env.seed(42)\n",
    "np.random.seed(42)"
   ]
  },
  {
   "cell_type": "code",
   "execution_count": 11,
   "id": "moved-automation",
   "metadata": {},
   "outputs": [],
   "source": [
    "from collections import deque\n",
    "\n",
    "que_size = 2000\n",
    "replay_memory = deque(maxlen=que_size)\n",
    "\n",
    "network = model()"
   ]
  },
  {
   "cell_type": "code",
   "execution_count": 13,
   "id": "compressed-democrat",
   "metadata": {},
   "outputs": [
    {
     "name": "stdout",
     "output_type": "stream",
     "text": [
      "Episode : 6999 eps : 0.010  Step : 92  "
     ]
    }
   ],
   "source": [
    "mx = 0\n",
    "n_episodes = 7000\n",
    "lr = 0.001\n",
    "discount_rate = 0.95\n",
    "path = \"model_\" + \"best\" + \".pt\"\n",
    "dist_constaint = 0.5 # this is an additional constraint, if the distance from the middle is > 0.5 inches, terminates.\n",
    "\n",
    "optimizer = torch.optim.Adam(network.parameters(), lr = lr)\n",
    "Loss = nn.MSELoss()\n",
    "\n",
    "batch_size = 32\n",
    "rewards_list = []\n",
    "path = \"\"\n",
    "win_len = 25\n",
    "\n",
    "for i in range(n_episodes):\n",
    "    it = 0\n",
    "    state = env.reset()\n",
    "    action = np.random.randint(0, 2)\n",
    "    for j in range(1000):\n",
    "        epsilon = max(1 - i/500, 0.01)\n",
    "        state, done = action_step(state, action)\n",
    "        action = greedy(state)\n",
    "        it += 1\n",
    "        if(done):\n",
    "            break\n",
    "            \n",
    "    rewards_list.append(it)\n",
    "    if(i > 50):\n",
    "        train_batch()\n",
    "        \n",
    "    mean_reward = sum(rewards_list[-win_len:])/min(len(rewards_list), win_len)\n",
    "    if(mean_reward >= mx and mean_reward > 200):\n",
    "        mx = mean_reward\n",
    "        torch.save({\n",
    "          'epoch': i,\n",
    "          'model_state_dict': network.state_dict(),\n",
    "          'optimizer_state_dict': optimizer.state_dict(),\n",
    "          'iterations': mean_reward,\n",
    "          }, path)\n",
    "    \n",
    "    print(\"\\rEpisode : {} eps : {:.3f}  Step : {} \".format(i, epsilon, it), end = \"\")"
   ]
  },
  {
   "cell_type": "code",
   "execution_count": 14,
   "id": "canadian-artwork",
   "metadata": {},
   "outputs": [],
   "source": [
    "def average_window(data, win_size):\n",
    "    res = []\n",
    "    for i in range(len(data) - win_size + 1):\n",
    "        s = 0\n",
    "        for j in range(i, i + win_size):\n",
    "            s += data[j]\n",
    "        res.append(s/win_size)\n",
    "    return res"
   ]
  },
  {
   "cell_type": "code",
   "execution_count": 15,
   "id": "damaged-plenty",
   "metadata": {},
   "outputs": [],
   "source": [
    "avg = average_window(rewards_list, 100)"
   ]
  },
  {
   "cell_type": "code",
   "execution_count": 16,
   "id": "terminal-trade",
   "metadata": {},
   "outputs": [
    {
     "data": {
      "text/plain": [
       "[<matplotlib.lines.Line2D at 0x201a20b4128>]"
      ]
     },
     "execution_count": 16,
     "metadata": {},
     "output_type": "execute_result"
    },
    {
     "data": {
      "image/png": "[encoded data removed]",
      "text/plain": [
       "<Figure size 432x288 with 1 Axes>"
      ]
     },
     "metadata": {
      "needs_background": "light"
     },
     "output_type": "display_data"
    }
   ],
   "source": [
    "plt.plot(rewards_list)\n",
    "plt.plot(avg)"
   ]
  },
  {
   "cell_type": "code",
   "execution_count": 17,
   "id": "sixth-magazine",
   "metadata": {},
   "outputs": [],
   "source": [
    "network2 = model()\n",
    "checkpoint = torch.load(path) # load the last best model\n",
    "network2.load_state_dict(checkpoint['model_state_dict'])\n",
    "optimizer.load_state_dict(checkpoint['optimizer_state_dict'])\n",
    "\n",
    "# z = list(weights)\n",
    "# for i, layer in enumerate(network2.parameters()):\n",
    "# #     print(i, layer.size())\n",
    "#     layer.data = z[i]"
   ]
  },
  {
   "cell_type": "code",
   "execution_count": 19,
   "id": "serial-focus",
   "metadata": {},
   "outputs": [
    {
     "name": "stdout",
     "output_type": "stream",
     "text": [
      "500.0\n"
     ]
    }
   ],
   "source": [
    "env.seed(42)\n",
    "obs = env.reset()\n",
    "done = False\n",
    "total_rewards = 0\n",
    "\n",
    "z = 0\n",
    "\n",
    "with torch.no_grad():\n",
    "    while(not done):\n",
    "        if(np.random.rand() < 0.01):\n",
    "            action = np.random.randint(0, 2)\n",
    "        else:\n",
    "            action = int(torch.argmax(network2(torch.tensor(obs, dtype = torch.float32))))\n",
    "#         if(total_rewards < 15):\n",
    "#             action = action = np.random.randint(0, 2)\n",
    "        obs, reward, done, info = env.step(action)\n",
    "        total_rewards += reward\n",
    "        env.render()\n",
    "        if(abs(obs[0]) > 0.5):\n",
    "            break\n",
    "env.close()\n",
    "print(total_rewards)"
   ]
  },
  {
   "cell_type": "code",
   "execution_count": null,
   "id": "center-davis",
   "metadata": {},
   "outputs": [],
   "source": []
  }
 ],
 "metadata": {
  "kernelspec": {
   "display_name": "Python 3",
   "language": "python",
   "name": "python3"
  },
  "language_info": {
   "codemirror_mode": {
    "name": "ipython",
    "version": 3
   },
   "file_extension": ".py",
   "mimetype": "text/x-python",
   "name": "python",
   "nbconvert_exporter": "python",
   "pygments_lexer": "ipython3",
   "version": "3.7.3"
  }
 },
 "nbformat": 4,
 "nbformat_minor": 5
}

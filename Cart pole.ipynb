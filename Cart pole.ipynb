{
  "cells": [
    {
      "cell_type": "markdown",
      "id": "corrected-aberdeen",
      "metadata": {
        "id": "corrected-aberdeen"
      },
      "source": [
        "<font color = \"black\">This project's inspiration comes from Aurélien Géron's book : Hands-On Machine Learning with Scikit-Learn and TensorFlow. </font>\n",
        "\n",
        "<font color = \"black\"> This project uses episodic batch/off-policy semi-gradient for state-action approximation.</font>\n",
        "\n",
        "<!-- <img src=\"pictures/myimage.JPG\" width=\"600\"/> -->"
      ]
    },
    {
      "cell_type": "code",
      "execution_count": 13,
      "id": "hungarian-sociology",
      "metadata": {
        "id": "hungarian-sociology"
      },
      "outputs": [],
      "source": [
        "import torch\n",
        "from torch import nn\n",
        "import numpy as np\n",
        "import matplotlib.pyplot as plt\n",
        "import gym\n",
        "\n",
        "from collections import deque\n",
        "from copy import deepcopy"
      ]
    },
    {
      "cell_type": "code",
      "execution_count": 14,
      "id": "broadband-journey",
      "metadata": {
        "id": "broadband-journey"
      },
      "outputs": [],
      "source": [
        "env = gym.make(\"CartPole-v1\") #(\"Pendulum-v0\")"
      ]
    },
    {
      "cell_type": "markdown",
      "id": "academic-commodity",
      "metadata": {
        "id": "academic-commodity"
      },
      "source": [
        "Reward\n",
        "Reward is 1 for every step taken, including the termination step. The threshold is 475 for v1.\n",
        "\n",
        "Starting State\n",
        "    All observations are assigned a uniform random value between ±0.05.\n",
        "\n",
        "Episode Termination\n",
        "\n",
        "    Pole Angle is more than ±12°\n",
        "    \n",
        "    Cart Position is more than ±2.4 (center of the cart reaches the edge of the display)\n",
        "\n",
        "    Episode length is greater than 200 (500 for v1)."
      ]
    },
    {
      "cell_type": "code",
      "execution_count": 15,
      "id": "balanced-doctor",
      "metadata": {
        "colab": {
          "base_uri": "https://localhost:8080/"
        },
        "id": "balanced-doctor",
        "outputId": "dc228c8a-586d-44b5-f9d9-29f28057ad29"
      },
      "outputs": [
        {
          "output_type": "execute_result",
          "data": {
            "text/plain": [
              "(Discrete(2),\n",
              " Box(-3.4028234663852886e+38, 3.4028234663852886e+38, (4,), float32))"
            ]
          },
          "metadata": {},
          "execution_count": 15
        }
      ],
      "source": [
        "# space (0 => Push cart to the left, 1 => Push cart to the right), (cart pos, cart veloc, pole angle, pole veloc)\n",
        "env.action_space, env.observation_space"
      ]
    },
    {
      "cell_type": "code",
      "execution_count": 16,
      "id": "hawaiian-peeing",
      "metadata": {
        "id": "hawaiian-peeing"
      },
      "outputs": [],
      "source": [
        "class model(nn.Module):\n",
        "    def __init__(self, input_units = 4, h_units = 32, out_units = 2):\n",
        "        super().__init__()\n",
        "        self.l = nn.Sequential(\n",
        "            nn.Linear(input_units, h_units),\n",
        "            nn.ELU(),\n",
        "            nn.Linear(h_units, h_units),\n",
        "            nn.ELU(),\n",
        "            nn.Linear(h_units, out_units)\n",
        "        )\n",
        "        self.initialize_weights()\n",
        "    def forward(self, x):\n",
        "        x = self.l(x)\n",
        "        return x\n",
        "    \n",
        "    # weight init my improve convergence speed\n",
        "    def initialize_weights(self):\n",
        "        for idx, m in enumerate(self.modules()): # will return modules and submodules\n",
        "            if(isinstance(m, (nn.Linear))):\n",
        "                nn.init.xavier_uniform_(m.weight)\n",
        "                m.bias.data.zero_()"
      ]
    },
    {
      "cell_type": "code",
      "source": [
        "class Agent:\n",
        "  def __init__(self):\n",
        "    self.replay_memory = deque(maxlen=2000)\n",
        "    self.network = model()\n",
        "    self.state_dict = deepcopy(self.network.state_dict())\n",
        "\n",
        "    self.lr = 0.01\n",
        "    self.discount_rate = 0.95\n",
        "    self.path = \"best_model.pt\"\n",
        "    self.dist_constaint = 1 # this is an additional constraint, if the distance from the middle is > 1 inches, terminates.\n",
        "\n",
        "    self.optimizer = torch.optim.Adam(self.network.parameters(), lr = self.lr)\n",
        "    self.scheduler = torch.optim.lr_scheduler.ExponentialLR(self.optimizer, gamma=0.999)\n",
        "    self.Loss = nn.MSELoss()\n",
        "\n",
        "    self.batch_size = 32\n",
        "\n",
        "  def greedy(self, state):\n",
        "    if(np.random.rand() < epsilon):\n",
        "        action = np.random.randint(2)\n",
        "    else:\n",
        "        action = torch.argmax(self.network(torch.tensor(state, dtype = torch.float32)))\n",
        "    return int(action)\n",
        "\n",
        "  def train_batch(self):\n",
        "    states, actions, rewards, next_states, dones = self.sample_sarsa()\n",
        "    q_values = self.network(torch.tensor(states, dtype = torch.float32))\n",
        "    rewards = torch.tensor(rewards, dtype = torch.float32)[:, None]\n",
        "    self.optimizer.zero_grad()\n",
        "    next_q_vals = self.network(torch.tensor(next_states, dtype = torch.float32))\n",
        "\n",
        "    next_mask = next_q_vals.argmax(1)[:, None]\n",
        "    mask = torch.tensor(actions)[:, None]\n",
        "    dones = torch.tensor(dones, dtype = torch.int32)[:, None]\n",
        "    target = rewards + self.discount_rate * (1 - dones) * next_q_vals.gather(1, next_mask)\n",
        "    loss = self.Loss(target, q_values.gather(1, mask))\n",
        "    loss.backward()\n",
        "    self.optimizer.step()\n",
        "    self.scheduler.step()\n",
        "\n",
        "  def sample_sarsa(self):\n",
        "    indices = np.random.randint(0, len(self.replay_memory), size = self.batch_size)\n",
        "    states, actions, rewards, next_states, dones = [[self.replay_memory[i][j] for i in indices] \n",
        "                                                                        for j in range(5)]\n",
        "    return states, actions, rewards, next_states, dones\n",
        "  \n",
        "  def action_step(self, state, action):\n",
        "    next_state, reward, done, info = env.step(int(action))\n",
        "    if(abs(next_state[0]) > self.dist_constaint):\n",
        "        done = True\n",
        "    self.replay_memory.append((state, action, reward, next_state, done))\n",
        "    return next_state, done"
      ],
      "metadata": {
        "id": "5AHhd0I2HWUH"
      },
      "id": "5AHhd0I2HWUH",
      "execution_count": 17,
      "outputs": []
    },
    {
      "cell_type": "code",
      "execution_count": 18,
      "id": "compressed-democrat",
      "metadata": {
        "colab": {
          "base_uri": "https://localhost:8080/"
        },
        "id": "compressed-democrat",
        "outputId": "ac364147-2bee-430e-980e-384f4b82a0da"
      },
      "outputs": [
        {
          "output_type": "stream",
          "name": "stdout",
          "text": [
            "Episode : 2999 eps : 0.010  Step : 500 Mean Reward 430.060 "
          ]
        }
      ],
      "source": [
        "env.seed()\n",
        "np.random.seed()\n",
        "\n",
        "agent = Agent()\n",
        "\n",
        "rewards_list = []\n",
        "win_len = 50\n",
        "n_episodes = 3000\n",
        "\n",
        "mx = 0\n",
        "for i in range(n_episodes):\n",
        "    it = 0\n",
        "    state = env.reset()\n",
        "    action = np.random.randint(0, 2)\n",
        "    for j in range(1000):\n",
        "        epsilon = max(1 - i/500, 0.01)\n",
        "        state, done = agent.action_step(state, action)\n",
        "        action = agent.greedy(state)\n",
        "        it += 1\n",
        "        if(done):\n",
        "            break\n",
        "\n",
        "    rewards_list.append(it)\n",
        "    if(i > 50):\n",
        "        agent.train_batch()\n",
        "    mean_reward = sum(rewards_list[-win_len:])/min(len(rewards_list), win_len)\n",
        "    if(mean_reward > mx):\n",
        "        mx = mean_reward\n",
        "        state_dict = deepcopy(agent.network.state_dict())\n",
        "        \n",
        "    print(\"\\rEpisode : {} eps : {:.3f}  Step : {} Mean Reward {:.3f} \".format(i, epsilon, it, mean_reward), end = \"\")"
      ]
    },
    {
      "cell_type": "code",
      "execution_count": 19,
      "id": "canadian-artwork",
      "metadata": {
        "id": "canadian-artwork"
      },
      "outputs": [],
      "source": [
        "def average_window(data, win_size):\n",
        "    res = []\n",
        "    for i in range(len(data) - win_size + 1):\n",
        "        s = 0\n",
        "        for j in range(i, i + win_size):\n",
        "            s += data[j]\n",
        "        res.append(s/win_size)\n",
        "    return res"
      ]
    },
    {
      "cell_type": "code",
      "execution_count": 20,
      "id": "damaged-plenty",
      "metadata": {
        "id": "damaged-plenty"
      },
      "outputs": [],
      "source": [
        "avg = average_window(rewards_list, win_len)"
      ]
    },
    {
      "cell_type": "code",
      "execution_count": 21,
      "id": "terminal-trade",
      "metadata": {
        "colab": {
          "base_uri": "https://localhost:8080/",
          "height": 283
        },
        "id": "terminal-trade",
        "outputId": "58914625-e6c3-4593-85cc-a13532333fd0"
      },
      "outputs": [
        {
          "output_type": "execute_result",
          "data": {
            "text/plain": [
              "<matplotlib.legend.Legend at 0x7fe6d044cb10>"
            ]
          },
          "metadata": {},
          "execution_count": 21
        },
        {
          "output_type": "display_data",
          "data": {
            "text/plain": [
              "<Figure size 432x288 with 1 Axes>"
            ],
            "image/png": "[encoded data removed]"
          },
          "metadata": {
            "needs_background": "light"
          }
        }
      ],
      "source": [
        "plt.plot(rewards_list, label = \"rewards\")\n",
        "plt.plot(avg, label = \"Moving average window sz = \" + str(win_len))\n",
        "plt.legend()"
      ]
    },
    {
      "cell_type": "code",
      "execution_count": null,
      "id": "serial-focus",
      "metadata": {
        "id": "serial-focus",
        "outputId": "763546ea-eb85-4451-ecc5-8c788ab7c274"
      },
      "outputs": [
        {
          "name": "stdout",
          "output_type": "stream",
          "text": [
            "490.0\n"
          ]
        }
      ],
      "source": [
        "obs = env.reset()\n",
        "    \n",
        "done = False\n",
        "total_rewards = 0\n",
        "np.random.seed()\n",
        "agent.network2.load_state_dict(state_dict)\n",
        "\n",
        "for i in range(10):\n",
        "    obs, reward, done, info = env.step(env.action_space.sample())\n",
        "\n",
        "with torch.no_grad():\n",
        "    while(not done):\n",
        "        action = int(torch.argmax(agent.network2(torch.tensor(obs, dtype = torch.float32))))\n",
        "        obs, reward, done, info = env.step(action)\n",
        "        total_rewards += reward\n",
        "        env.render()\n",
        "        \n",
        "env.close()\n",
        "print(total_rewards)"
      ]
    },
    {
      "cell_type": "code",
      "execution_count": null,
      "id": "center-davis",
      "metadata": {
        "id": "center-davis"
      },
      "outputs": [],
      "source": [
        ""
      ]
    }
  ],
  "metadata": {
    "kernelspec": {
      "display_name": "Python 3",
      "language": "python",
      "name": "python3"
    },
    "language_info": {
      "codemirror_mode": {
        "name": "ipython",
        "version": 3
      },
      "file_extension": ".py",
      "mimetype": "text/x-python",
      "name": "python",
      "nbconvert_exporter": "python",
      "pygments_lexer": "ipython3",
      "version": "3.7.3"
    },
    "colab": {
      "name": "Cart pole.ipynb",
      "provenance": [],
      "collapsed_sections": []
    }
  },
  "nbformat": 4,
  "nbformat_minor": 5
}
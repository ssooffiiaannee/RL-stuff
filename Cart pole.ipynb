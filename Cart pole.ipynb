{
 "cells": [
  {
   "attachments": {},
   "cell_type": "markdown",
   "id": "corrected-aberdeen",
   "metadata": {},
   "source": [
    "<font color = \"black\">This project's inspiration comes from Aurélien Géron's book : Hands-On Machine Learning with Scikit-Learn and TensorFlow. </font>\n",
    "\n",
    "<font color = \"black\"> This project uses episodic semi-gradient for state-action approximation.</font>\n",
    "\n",
    "<img src=\"pictures/myimage.jpg\" width=\"600\"/>"
   ]
  },
  {
   "cell_type": "code",
   "execution_count": 1,
   "id": "hungarian-sociology",
   "metadata": {},
   "outputs": [],
   "source": [
    "import torch\n",
    "from torch import nn\n",
    "import numpy as np\n",
    "import matplotlib.pyplot as plt\n",
    "import gym\n",
    "\n",
    "from collections import deque\n",
    "from copy import deepcopy"
   ]
  },
  {
   "cell_type": "code",
   "execution_count": 2,
   "id": "broadband-journey",
   "metadata": {},
   "outputs": [],
   "source": [
    "env = gym.make(\"CartPole-v1\") #(\"Pendulum-v0\")"
   ]
  },
  {
   "cell_type": "markdown",
   "id": "academic-commodity",
   "metadata": {},
   "source": [
    "Reward\n",
    "Reward is 1 for every step taken, including the termination step. The threshold is 475 for v1.\n",
    "\n",
    "Starting State\n",
    "    All observations are assigned a uniform random value between ±0.05.\n",
    "\n",
    "Episode Termination\n",
    "\n",
    "    Pole Angle is more than ±12°\n",
    "    \n",
    "    Cart Position is more than ±2.4 (center of the cart reaches the edge of the display)\n",
    "\n",
    "    Episode length is greater than 200 (500 for v1)."
   ]
  },
  {
   "cell_type": "code",
   "execution_count": 3,
   "id": "balanced-doctor",
   "metadata": {},
   "outputs": [
    {
     "data": {
      "text/plain": [
       "(Discrete(2),\n",
       " Box(-3.4028234663852886e+38, 3.4028234663852886e+38, (4,), float32))"
      ]
     },
     "execution_count": 3,
     "metadata": {},
     "output_type": "execute_result"
    }
   ],
   "source": [
    "# space (0 => Push cart to the left, 1 => Push cart to the right), (cart pos, cart veloc, pole angle, pole veloc)\n",
    "env.action_space, env.observation_space"
   ]
  },
  {
   "cell_type": "code",
   "execution_count": 4,
   "id": "hawaiian-peeing",
   "metadata": {},
   "outputs": [],
   "source": [
    "class model(nn.Module):\n",
    "    def __init__(self, input_units = 4, h_units = 32, out_units = 2):\n",
    "        super().__init__()\n",
    "        self.l = nn.Sequential(\n",
    "            nn.Linear(input_units, h_units),\n",
    "            nn.ELU(),\n",
    "            nn.Linear(h_units, h_units),\n",
    "            nn.ELU(),\n",
    "            nn.Linear(h_units, out_units)\n",
    "        )\n",
    "        self.initialize_weights()\n",
    "    def forward(self, x):\n",
    "        x = self.l(x)\n",
    "        return x\n",
    "    \n",
    "    # weight init my improve convergence speed\n",
    "    def initialize_weights(self):\n",
    "        for idx, m in enumerate(self.modules()): # will return modules and submodules\n",
    "            if(isinstance(m, (nn.Linear))):\n",
    "                nn.init.xavier_uniform_(m.weight)\n",
    "                m.bias.data.zero_()"
   ]
  },
  {
   "cell_type": "code",
   "execution_count": 5,
   "id": "naval-fancy",
   "metadata": {},
   "outputs": [],
   "source": [
    "def greedy(state):\n",
    "    if(np.random.rand() < epsilon):\n",
    "        action = np.random.randint(2)\n",
    "    else:\n",
    "        action = torch.argmax(network(torch.tensor(state, dtype = torch.float32)))\n",
    "    return int(action)"
   ]
  },
  {
   "cell_type": "code",
   "execution_count": 6,
   "id": "rocky-demand",
   "metadata": {},
   "outputs": [],
   "source": [
    "def train_batch():\n",
    "    states, actions, rewards, next_states, dones = sample_sarsa()\n",
    "    q_values = network(torch.tensor(states, dtype = torch.float32))\n",
    "    rewards = torch.tensor(rewards, dtype = torch.float32)[:, None]\n",
    "    optimizer.zero_grad()\n",
    "    next_q_vals = network(torch.tensor(next_states, dtype = torch.float32))\n",
    "\n",
    "    next_mask = next_q_vals.argmax(1)[:, None]\n",
    "    mask = torch.tensor(actions)[:, None]\n",
    "    dones = torch.tensor(dones, dtype = torch.int32)[:, None]\n",
    "    target = rewards + discount_rate * (1 - dones) * next_q_vals.gather(1, next_mask)\n",
    "    loss = Loss(target, q_values.gather(1, mask))\n",
    "    loss.backward()\n",
    "    optimizer.step()\n",
    "    scheduler.step()"
   ]
  },
  {
   "cell_type": "code",
   "execution_count": 7,
   "id": "decreased-reference",
   "metadata": {},
   "outputs": [],
   "source": [
    "def sample_sarsa():\n",
    "    indices = np.random.randint(0, len(replay_memory), size = batch_size)\n",
    "    states, actions, rewards, next_states, dones = [[replay_memory[i][j] for i in indices] \n",
    "                                                                        for j in range(5)]\n",
    "    return states, actions, rewards, next_states, dones"
   ]
  },
  {
   "cell_type": "code",
   "execution_count": 8,
   "id": "marine-poverty",
   "metadata": {},
   "outputs": [],
   "source": [
    "def action_step(state, action):\n",
    "    next_state, reward, done, info = env.step(int(action))\n",
    "    if(abs(next_state[0]) > dist_constaint):\n",
    "        done = True\n",
    "    replay_memory.append((state, action, reward, next_state, done))\n",
    "    return next_state, done"
   ]
  },
  {
   "cell_type": "code",
   "execution_count": 84,
   "id": "compressed-democrat",
   "metadata": {},
   "outputs": [
    {
     "name": "stdout",
     "output_type": "stream",
     "text": [
      "Episode : 2999 eps : 0.010  Step : 227 Mean Reward 459.780 "
     ]
    }
   ],
   "source": [
    "env.seed()\n",
    "np.random.seed()\n",
    "\n",
    "replay_memory = deque(maxlen=2000)\n",
    "network = model()\n",
    "state_dict = deepcopy(network.state_dict())\n",
    "\n",
    "lr = 0.01\n",
    "discount_rate = 0.95\n",
    "path = \"best_model.pt\"\n",
    "dist_constaint = 1 # this is an additional constraint, if the distance from the middle is > 1 inches, terminates.\n",
    "\n",
    "optimizer = torch.optim.Adam(network.parameters(), lr = lr)\n",
    "scheduler = torch.optim.lr_scheduler.ExponentialLR(optimizer, gamma=0.999)\n",
    "Loss = nn.MSELoss()\n",
    "\n",
    "batch_size = 32\n",
    "rewards_list = []\n",
    "win_len = 50\n",
    "n_episodes = 3000\n",
    "\n",
    "mx = 0\n",
    "for i in range(n_episodes):\n",
    "    it = 0\n",
    "    state = env.reset()\n",
    "    action = np.random.randint(0, 2)\n",
    "    for j in range(1000):\n",
    "        epsilon = max(1 - i/500, 0.01)\n",
    "        state, done = action_step(state, action)\n",
    "        action = greedy(state)\n",
    "        it += 1\n",
    "        if(done):\n",
    "            break\n",
    "\n",
    "    rewards_list.append(it)\n",
    "    if(i > 50):\n",
    "        train_batch()\n",
    "    mean_reward = sum(rewards_list[-win_len:])/min(len(rewards_list), win_len)\n",
    "    if(mean_reward > mx):\n",
    "        mx = mean_reward\n",
    "        state_dict = deepcopy(network.state_dict())\n",
    "        \n",
    "    print(\"\\rEpisode : {} eps : {:.3f}  Step : {} Mean Reward {:.3f} \".format(i, epsilon, it, mean_reward), end = \"\")"
   ]
  },
  {
   "cell_type": "code",
   "execution_count": 85,
   "id": "canadian-artwork",
   "metadata": {},
   "outputs": [],
   "source": [
    "def average_window(data, win_size):\n",
    "    res = []\n",
    "    for i in range(len(data) - win_size + 1):\n",
    "        s = 0\n",
    "        for j in range(i, i + win_size):\n",
    "            s += data[j]\n",
    "        res.append(s/win_size)\n",
    "    return res"
   ]
  },
  {
   "cell_type": "code",
   "execution_count": 86,
   "id": "damaged-plenty",
   "metadata": {},
   "outputs": [],
   "source": [
    "avg = average_window(rewards_list, win_len)"
   ]
  },
  {
   "cell_type": "code",
   "execution_count": 87,
   "id": "terminal-trade",
   "metadata": {},
   "outputs": [
    {
     "data": {
      "text/plain": [
       "<matplotlib.legend.Legend at 0x2ad0cbc1198>"
      ]
     },
     "execution_count": 87,
     "metadata": {},
     "output_type": "execute_result"
    },
    {
     "data": {
      "image/png": "[encoded data removed]",
      "text/plain": [
       "<Figure size 432x288 with 1 Axes>"
      ]
     },
     "metadata": {
      "needs_background": "light"
     },
     "output_type": "display_data"
    }
   ],
   "source": [
    "plt.plot(rewards_list, label = \"rewards\")\n",
    "plt.plot(avg, label = \"Moving average window sz = \" + str(win_len))\n",
    "plt.legend()"
   ]
  },
  {
   "cell_type": "code",
   "execution_count": 113,
   "id": "serial-focus",
   "metadata": {},
   "outputs": [
    {
     "name": "stdout",
     "output_type": "stream",
     "text": [
      "490.0\n"
     ]
    }
   ],
   "source": [
    "obs = env.reset()\n",
    "    \n",
    "done = False\n",
    "total_rewards = 0\n",
    "np.random.seed()\n",
    "network2.load_state_dict(state_dict)\n",
    "\n",
    "for i in range(10):\n",
    "    obs, reward, done, info = env.step(env.action_space.sample())\n",
    "\n",
    "with torch.no_grad():\n",
    "    while(not done):\n",
    "        action = int(torch.argmax(network2(torch.tensor(obs, dtype = torch.float32))))\n",
    "        obs, reward, done, info = env.step(action)\n",
    "        total_rewards += reward\n",
    "        env.render()\n",
    "        \n",
    "env.close()\n",
    "print(total_rewards)"
   ]
  },
  {
   "cell_type": "code",
   "execution_count": null,
   "id": "center-davis",
   "metadata": {},
   "outputs": [],
   "source": []
  }
 ],
 "metadata": {
  "kernelspec": {
   "display_name": "Python 3",
   "language": "python",
   "name": "python3"
  },
  "language_info": {
   "codemirror_mode": {
    "name": "ipython",
    "version": 3
   },
   "file_extension": ".py",
   "mimetype": "text/x-python",
   "name": "python",
   "nbconvert_exporter": "python",
   "pygments_lexer": "ipython3",
   "version": "3.7.3"
  }
 },
 "nbformat": 4,
 "nbformat_minor": 5
}
